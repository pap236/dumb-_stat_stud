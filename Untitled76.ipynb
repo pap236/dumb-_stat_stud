{
  "nbformat": 4,
  "nbformat_minor": 0,
  "metadata": {
    "colab": {
      "provenance": []
    },
    "kernelspec": {
      "name": "python3",
      "display_name": "Python 3"
    },
    "language_info": {
      "name": "python"
    }
  },
  "cells": [
    {
      "cell_type": "code",
      "source": [
        "import os\n",
        "import numpy as np\n",
        "import pandas as pd\n",
        "import matplotlib.pyplot as plt"
      ],
      "metadata": {
        "id": "9YSEyKPbteE9"
      },
      "execution_count": 10,
      "outputs": []
    },
    {
      "cell_type": "code",
      "execution_count": 2,
      "metadata": {
        "colab": {
          "base_uri": "https://localhost:8080/"
        },
        "id": "Kmv-K4Xnqohw",
        "outputId": "1f8fa27d-27cf-4224-b34e-5626b47985d3"
      },
      "outputs": [
        {
          "output_type": "stream",
          "name": "stdout",
          "text": [
            "Downloading from https://www.kaggle.com/api/v1/datasets/download/mexwell/social-conflict-analysis-database?dataset_version_number=1...\n"
          ]
        },
        {
          "output_type": "stream",
          "name": "stderr",
          "text": [
            "100%|██████████| 2.25M/2.25M [00:00<00:00, 32.9MB/s]"
          ]
        },
        {
          "output_type": "stream",
          "name": "stdout",
          "text": [
            "Extracting files...\n"
          ]
        },
        {
          "output_type": "stream",
          "name": "stderr",
          "text": [
            "\n"
          ]
        },
        {
          "output_type": "stream",
          "name": "stdout",
          "text": [
            "Path to dataset files: /root/.cache/kagglehub/datasets/mexwell/social-conflict-analysis-database/versions/1\n"
          ]
        }
      ],
      "source": [
        "import kagglehub\n",
        "\n",
        "# Download latest version\n",
        "path = kagglehub.dataset_download(\"mexwell/social-conflict-analysis-database\")\n",
        "\n",
        "print(\"Path to dataset files:\", path)"
      ]
    },
    {
      "cell_type": "code",
      "source": [
        "print(os.listdir(path=path))"
      ],
      "metadata": {
        "colab": {
          "base_uri": "https://localhost:8080/"
        },
        "id": "girEZa7kuHFK",
        "outputId": "437f6c86-b270-4731-f975-7c36a7ed7ff6"
      },
      "execution_count": 11,
      "outputs": [
        {
          "output_type": "stream",
          "name": "stdout",
          "text": [
            "['SCAD_33_Codebook.pdf', 'SCAD2018Africa_Final.csv', 'SCAD2018LatinAmerica_Final.csv']\n"
          ]
        }
      ]
    },
    {
      "cell_type": "code",
      "source": [
        "try:\n",
        "    data = pd.read_csv(os.path.join(path, \"SCAD2018LatinAmerica_Final.csv\"), encoding='latin-1')\n",
        "except UnicodeDecodeError:\n",
        "    # If 'latin-1' fails, try 'cp1252' which is similar and also common\n",
        "    data = pd.read_csv(os.path.join(path, \"SCAD2018LatinAmerica_Final.csv\"), encoding='cp1252')"
      ],
      "metadata": {
        "id": "-RbKeDT1vBGm"
      },
      "execution_count": 14,
      "outputs": []
    },
    {
      "cell_type": "code",
      "source": [
        "data.head()"
      ],
      "metadata": {
        "colab": {
          "base_uri": "https://localhost:8080/",
          "height": 429
        },
        "id": "9fU4GJAzvU05",
        "outputId": "56c9dc3f-47df-407f-eabc-f27042e6dee9"
      },
      "execution_count": 15,
      "outputs": [
        {
          "output_type": "execute_result",
          "data": {
            "text/plain": [
              "   eventid  id  ccode countryname  startdate    enddate  duration  stday  \\\n",
              "0   400001   1     40        Cuba  28-Jan-90  28-Jan-90         1     28   \n",
              "1   400002   2     40        Cuba   5-Mar-90   5-Mar-90         1      5   \n",
              "2   400003   3     40        Cuba   8-Mar-90   8-Mar-90         1      8   \n",
              "3   400004   4     40        Cuba   9-Jul-90  26-Jul-90        18      9   \n",
              "4   400005   5     40        Cuba  17-Jul-90  17-Jul-90         1     17   \n",
              "\n",
              "   stmo  styr  ...  nsource  \\\n",
              "0     1  1990  ...       AP   \n",
              "1     3  1990  ...       AP   \n",
              "2     3  1990  ...       AP   \n",
              "3     7  1990  ...       AP   \n",
              "4     7  1990  ...       AP   \n",
              "\n",
              "                                               notes  female_event  \\\n",
              "0                                                NaN             0   \n",
              "1                                                NaN             0   \n",
              "2                                                NaN             0   \n",
              "3  Is asylum-seeking at embassies a codeable even...             0   \n",
              "4  Exact date not specified; event date approximated             0   \n",
              "\n",
              "   lgbtq_issue  coder acd_questionable   latitude  longitude  \\\n",
              "0            0     MW                0  21.950001 -79.550003   \n",
              "1            0     MW                0  21.950001 -79.550003   \n",
              "2            0     MW                0  21.950001 -79.550003   \n",
              "3            0     MW                0  23.054070 -82.345192   \n",
              "4            0     MW                0  23.054070 -82.345192   \n",
              "\n",
              "       geo_comments location_precision  \n",
              "0  Unknown location                 no  \n",
              "1  Unknown location                 no  \n",
              "2  Unknown location                 no  \n",
              "3               NaN                NaN  \n",
              "4               NaN                NaN  \n",
              "\n",
              "[5 rows x 44 columns]"
            ],
            "text/html": [
              "\n",
              "  <div id=\"df-7a247206-a1a0-4ab0-bdc6-f45df9fae4bf\" class=\"colab-df-container\">\n",
              "    <div>\n",
              "<style scoped>\n",
              "    .dataframe tbody tr th:only-of-type {\n",
              "        vertical-align: middle;\n",
              "    }\n",
              "\n",
              "    .dataframe tbody tr th {\n",
              "        vertical-align: top;\n",
              "    }\n",
              "\n",
              "    .dataframe thead th {\n",
              "        text-align: right;\n",
              "    }\n",
              "</style>\n",
              "<table border=\"1\" class=\"dataframe\">\n",
              "  <thead>\n",
              "    <tr style=\"text-align: right;\">\n",
              "      <th></th>\n",
              "      <th>eventid</th>\n",
              "      <th>id</th>\n",
              "      <th>ccode</th>\n",
              "      <th>countryname</th>\n",
              "      <th>startdate</th>\n",
              "      <th>enddate</th>\n",
              "      <th>duration</th>\n",
              "      <th>stday</th>\n",
              "      <th>stmo</th>\n",
              "      <th>styr</th>\n",
              "      <th>...</th>\n",
              "      <th>nsource</th>\n",
              "      <th>notes</th>\n",
              "      <th>female_event</th>\n",
              "      <th>lgbtq_issue</th>\n",
              "      <th>coder</th>\n",
              "      <th>acd_questionable</th>\n",
              "      <th>latitude</th>\n",
              "      <th>longitude</th>\n",
              "      <th>geo_comments</th>\n",
              "      <th>location_precision</th>\n",
              "    </tr>\n",
              "  </thead>\n",
              "  <tbody>\n",
              "    <tr>\n",
              "      <th>0</th>\n",
              "      <td>400001</td>\n",
              "      <td>1</td>\n",
              "      <td>40</td>\n",
              "      <td>Cuba</td>\n",
              "      <td>28-Jan-90</td>\n",
              "      <td>28-Jan-90</td>\n",
              "      <td>1</td>\n",
              "      <td>28</td>\n",
              "      <td>1</td>\n",
              "      <td>1990</td>\n",
              "      <td>...</td>\n",
              "      <td>AP</td>\n",
              "      <td>NaN</td>\n",
              "      <td>0</td>\n",
              "      <td>0</td>\n",
              "      <td>MW</td>\n",
              "      <td>0</td>\n",
              "      <td>21.950001</td>\n",
              "      <td>-79.550003</td>\n",
              "      <td>Unknown location</td>\n",
              "      <td>no</td>\n",
              "    </tr>\n",
              "    <tr>\n",
              "      <th>1</th>\n",
              "      <td>400002</td>\n",
              "      <td>2</td>\n",
              "      <td>40</td>\n",
              "      <td>Cuba</td>\n",
              "      <td>5-Mar-90</td>\n",
              "      <td>5-Mar-90</td>\n",
              "      <td>1</td>\n",
              "      <td>5</td>\n",
              "      <td>3</td>\n",
              "      <td>1990</td>\n",
              "      <td>...</td>\n",
              "      <td>AP</td>\n",
              "      <td>NaN</td>\n",
              "      <td>0</td>\n",
              "      <td>0</td>\n",
              "      <td>MW</td>\n",
              "      <td>0</td>\n",
              "      <td>21.950001</td>\n",
              "      <td>-79.550003</td>\n",
              "      <td>Unknown location</td>\n",
              "      <td>no</td>\n",
              "    </tr>\n",
              "    <tr>\n",
              "      <th>2</th>\n",
              "      <td>400003</td>\n",
              "      <td>3</td>\n",
              "      <td>40</td>\n",
              "      <td>Cuba</td>\n",
              "      <td>8-Mar-90</td>\n",
              "      <td>8-Mar-90</td>\n",
              "      <td>1</td>\n",
              "      <td>8</td>\n",
              "      <td>3</td>\n",
              "      <td>1990</td>\n",
              "      <td>...</td>\n",
              "      <td>AP</td>\n",
              "      <td>NaN</td>\n",
              "      <td>0</td>\n",
              "      <td>0</td>\n",
              "      <td>MW</td>\n",
              "      <td>0</td>\n",
              "      <td>21.950001</td>\n",
              "      <td>-79.550003</td>\n",
              "      <td>Unknown location</td>\n",
              "      <td>no</td>\n",
              "    </tr>\n",
              "    <tr>\n",
              "      <th>3</th>\n",
              "      <td>400004</td>\n",
              "      <td>4</td>\n",
              "      <td>40</td>\n",
              "      <td>Cuba</td>\n",
              "      <td>9-Jul-90</td>\n",
              "      <td>26-Jul-90</td>\n",
              "      <td>18</td>\n",
              "      <td>9</td>\n",
              "      <td>7</td>\n",
              "      <td>1990</td>\n",
              "      <td>...</td>\n",
              "      <td>AP</td>\n",
              "      <td>Is asylum-seeking at embassies a codeable even...</td>\n",
              "      <td>0</td>\n",
              "      <td>0</td>\n",
              "      <td>MW</td>\n",
              "      <td>0</td>\n",
              "      <td>23.054070</td>\n",
              "      <td>-82.345192</td>\n",
              "      <td>NaN</td>\n",
              "      <td>NaN</td>\n",
              "    </tr>\n",
              "    <tr>\n",
              "      <th>4</th>\n",
              "      <td>400005</td>\n",
              "      <td>5</td>\n",
              "      <td>40</td>\n",
              "      <td>Cuba</td>\n",
              "      <td>17-Jul-90</td>\n",
              "      <td>17-Jul-90</td>\n",
              "      <td>1</td>\n",
              "      <td>17</td>\n",
              "      <td>7</td>\n",
              "      <td>1990</td>\n",
              "      <td>...</td>\n",
              "      <td>AP</td>\n",
              "      <td>Exact date not specified; event date approximated</td>\n",
              "      <td>0</td>\n",
              "      <td>0</td>\n",
              "      <td>MW</td>\n",
              "      <td>0</td>\n",
              "      <td>23.054070</td>\n",
              "      <td>-82.345192</td>\n",
              "      <td>NaN</td>\n",
              "      <td>NaN</td>\n",
              "    </tr>\n",
              "  </tbody>\n",
              "</table>\n",
              "<p>5 rows × 44 columns</p>\n",
              "</div>\n",
              "    <div class=\"colab-df-buttons\">\n",
              "\n",
              "  <div class=\"colab-df-container\">\n",
              "    <button class=\"colab-df-convert\" onclick=\"convertToInteractive('df-7a247206-a1a0-4ab0-bdc6-f45df9fae4bf')\"\n",
              "            title=\"Convert this dataframe to an interactive table.\"\n",
              "            style=\"display:none;\">\n",
              "\n",
              "  <svg xmlns=\"http://www.w3.org/2000/svg\" height=\"24px\" viewBox=\"0 -960 960 960\">\n",
              "    <path d=\"M120-120v-720h720v720H120Zm60-500h600v-160H180v160Zm220 220h160v-160H400v160Zm0 220h160v-160H400v160ZM180-400h160v-160H180v160Zm440 0h160v-160H620v160ZM180-180h160v-160H180v160Zm440 0h160v-160H620v160Z\"/>\n",
              "  </svg>\n",
              "    </button>\n",
              "\n",
              "  <style>\n",
              "    .colab-df-container {\n",
              "      display:flex;\n",
              "      gap: 12px;\n",
              "    }\n",
              "\n",
              "    .colab-df-convert {\n",
              "      background-color: #E8F0FE;\n",
              "      border: none;\n",
              "      border-radius: 50%;\n",
              "      cursor: pointer;\n",
              "      display: none;\n",
              "      fill: #1967D2;\n",
              "      height: 32px;\n",
              "      padding: 0 0 0 0;\n",
              "      width: 32px;\n",
              "    }\n",
              "\n",
              "    .colab-df-convert:hover {\n",
              "      background-color: #E2EBFA;\n",
              "      box-shadow: 0px 1px 2px rgba(60, 64, 67, 0.3), 0px 1px 3px 1px rgba(60, 64, 67, 0.15);\n",
              "      fill: #174EA6;\n",
              "    }\n",
              "\n",
              "    .colab-df-buttons div {\n",
              "      margin-bottom: 4px;\n",
              "    }\n",
              "\n",
              "    [theme=dark] .colab-df-convert {\n",
              "      background-color: #3B4455;\n",
              "      fill: #D2E3FC;\n",
              "    }\n",
              "\n",
              "    [theme=dark] .colab-df-convert:hover {\n",
              "      background-color: #434B5C;\n",
              "      box-shadow: 0px 1px 3px 1px rgba(0, 0, 0, 0.15);\n",
              "      filter: drop-shadow(0px 1px 2px rgba(0, 0, 0, 0.3));\n",
              "      fill: #FFFFFF;\n",
              "    }\n",
              "  </style>\n",
              "\n",
              "    <script>\n",
              "      const buttonEl =\n",
              "        document.querySelector('#df-7a247206-a1a0-4ab0-bdc6-f45df9fae4bf button.colab-df-convert');\n",
              "      buttonEl.style.display =\n",
              "        google.colab.kernel.accessAllowed ? 'block' : 'none';\n",
              "\n",
              "      async function convertToInteractive(key) {\n",
              "        const element = document.querySelector('#df-7a247206-a1a0-4ab0-bdc6-f45df9fae4bf');\n",
              "        const dataTable =\n",
              "          await google.colab.kernel.invokeFunction('convertToInteractive',\n",
              "                                                    [key], {});\n",
              "        if (!dataTable) return;\n",
              "\n",
              "        const docLinkHtml = 'Like what you see? Visit the ' +\n",
              "          '<a target=\"_blank\" href=https://colab.research.google.com/notebooks/data_table.ipynb>data table notebook</a>'\n",
              "          + ' to learn more about interactive tables.';\n",
              "        element.innerHTML = '';\n",
              "        dataTable['output_type'] = 'display_data';\n",
              "        await google.colab.output.renderOutput(dataTable, element);\n",
              "        const docLink = document.createElement('div');\n",
              "        docLink.innerHTML = docLinkHtml;\n",
              "        element.appendChild(docLink);\n",
              "      }\n",
              "    </script>\n",
              "  </div>\n",
              "\n",
              "\n",
              "    <div id=\"df-7345a0fa-7351-4aa1-8531-12b2b07daa61\">\n",
              "      <button class=\"colab-df-quickchart\" onclick=\"quickchart('df-7345a0fa-7351-4aa1-8531-12b2b07daa61')\"\n",
              "                title=\"Suggest charts\"\n",
              "                style=\"display:none;\">\n",
              "\n",
              "<svg xmlns=\"http://www.w3.org/2000/svg\" height=\"24px\"viewBox=\"0 0 24 24\"\n",
              "     width=\"24px\">\n",
              "    <g>\n",
              "        <path d=\"M19 3H5c-1.1 0-2 .9-2 2v14c0 1.1.9 2 2 2h14c1.1 0 2-.9 2-2V5c0-1.1-.9-2-2-2zM9 17H7v-7h2v7zm4 0h-2V7h2v10zm4 0h-2v-4h2v4z\"/>\n",
              "    </g>\n",
              "</svg>\n",
              "      </button>\n",
              "\n",
              "<style>\n",
              "  .colab-df-quickchart {\n",
              "      --bg-color: #E8F0FE;\n",
              "      --fill-color: #1967D2;\n",
              "      --hover-bg-color: #E2EBFA;\n",
              "      --hover-fill-color: #174EA6;\n",
              "      --disabled-fill-color: #AAA;\n",
              "      --disabled-bg-color: #DDD;\n",
              "  }\n",
              "\n",
              "  [theme=dark] .colab-df-quickchart {\n",
              "      --bg-color: #3B4455;\n",
              "      --fill-color: #D2E3FC;\n",
              "      --hover-bg-color: #434B5C;\n",
              "      --hover-fill-color: #FFFFFF;\n",
              "      --disabled-bg-color: #3B4455;\n",
              "      --disabled-fill-color: #666;\n",
              "  }\n",
              "\n",
              "  .colab-df-quickchart {\n",
              "    background-color: var(--bg-color);\n",
              "    border: none;\n",
              "    border-radius: 50%;\n",
              "    cursor: pointer;\n",
              "    display: none;\n",
              "    fill: var(--fill-color);\n",
              "    height: 32px;\n",
              "    padding: 0;\n",
              "    width: 32px;\n",
              "  }\n",
              "\n",
              "  .colab-df-quickchart:hover {\n",
              "    background-color: var(--hover-bg-color);\n",
              "    box-shadow: 0 1px 2px rgba(60, 64, 67, 0.3), 0 1px 3px 1px rgba(60, 64, 67, 0.15);\n",
              "    fill: var(--button-hover-fill-color);\n",
              "  }\n",
              "\n",
              "  .colab-df-quickchart-complete:disabled,\n",
              "  .colab-df-quickchart-complete:disabled:hover {\n",
              "    background-color: var(--disabled-bg-color);\n",
              "    fill: var(--disabled-fill-color);\n",
              "    box-shadow: none;\n",
              "  }\n",
              "\n",
              "  .colab-df-spinner {\n",
              "    border: 2px solid var(--fill-color);\n",
              "    border-color: transparent;\n",
              "    border-bottom-color: var(--fill-color);\n",
              "    animation:\n",
              "      spin 1s steps(1) infinite;\n",
              "  }\n",
              "\n",
              "  @keyframes spin {\n",
              "    0% {\n",
              "      border-color: transparent;\n",
              "      border-bottom-color: var(--fill-color);\n",
              "      border-left-color: var(--fill-color);\n",
              "    }\n",
              "    20% {\n",
              "      border-color: transparent;\n",
              "      border-left-color: var(--fill-color);\n",
              "      border-top-color: var(--fill-color);\n",
              "    }\n",
              "    30% {\n",
              "      border-color: transparent;\n",
              "      border-left-color: var(--fill-color);\n",
              "      border-top-color: var(--fill-color);\n",
              "      border-right-color: var(--fill-color);\n",
              "    }\n",
              "    40% {\n",
              "      border-color: transparent;\n",
              "      border-right-color: var(--fill-color);\n",
              "      border-top-color: var(--fill-color);\n",
              "    }\n",
              "    60% {\n",
              "      border-color: transparent;\n",
              "      border-right-color: var(--fill-color);\n",
              "    }\n",
              "    80% {\n",
              "      border-color: transparent;\n",
              "      border-right-color: var(--fill-color);\n",
              "      border-bottom-color: var(--fill-color);\n",
              "    }\n",
              "    90% {\n",
              "      border-color: transparent;\n",
              "      border-bottom-color: var(--fill-color);\n",
              "    }\n",
              "  }\n",
              "</style>\n",
              "\n",
              "      <script>\n",
              "        async function quickchart(key) {\n",
              "          const quickchartButtonEl =\n",
              "            document.querySelector('#' + key + ' button');\n",
              "          quickchartButtonEl.disabled = true;  // To prevent multiple clicks.\n",
              "          quickchartButtonEl.classList.add('colab-df-spinner');\n",
              "          try {\n",
              "            const charts = await google.colab.kernel.invokeFunction(\n",
              "                'suggestCharts', [key], {});\n",
              "          } catch (error) {\n",
              "            console.error('Error during call to suggestCharts:', error);\n",
              "          }\n",
              "          quickchartButtonEl.classList.remove('colab-df-spinner');\n",
              "          quickchartButtonEl.classList.add('colab-df-quickchart-complete');\n",
              "        }\n",
              "        (() => {\n",
              "          let quickchartButtonEl =\n",
              "            document.querySelector('#df-7345a0fa-7351-4aa1-8531-12b2b07daa61 button');\n",
              "          quickchartButtonEl.style.display =\n",
              "            google.colab.kernel.accessAllowed ? 'block' : 'none';\n",
              "        })();\n",
              "      </script>\n",
              "    </div>\n",
              "\n",
              "    </div>\n",
              "  </div>\n"
            ],
            "application/vnd.google.colaboratory.intrinsic+json": {
              "type": "dataframe",
              "variable_name": "data"
            }
          },
          "metadata": {},
          "execution_count": 15
        }
      ]
    },
    {
      "cell_type": "code",
      "source": [
        "data.columns"
      ],
      "metadata": {
        "colab": {
          "base_uri": "https://localhost:8080/"
        },
        "id": "BsMxLLc-vra5",
        "outputId": "b72151a7-f73d-45dc-e0d0-8a69c7a76b7f"
      },
      "execution_count": 16,
      "outputs": [
        {
          "output_type": "execute_result",
          "data": {
            "text/plain": [
              "Index(['eventid', 'id', 'ccode', 'countryname', 'startdate', 'enddate',\n",
              "       'duration', 'stday', 'stmo', 'styr', 'eday', 'emo', 'eyr', 'etype',\n",
              "       'escalation', 'actor1', 'actor2', 'actor3', 'target1', 'target2',\n",
              "       'cgovtarget', 'rgovtarget', 'npart', 'ndeath', 'repress', 'elocal',\n",
              "       'ilocal', 'sublocal', 'locnum', 'gislocnum', 'issue1', 'issue2',\n",
              "       'issue3', 'issuenote', 'nsource', 'notes', 'female_event',\n",
              "       'lgbtq_issue', 'coder', 'acd_questionable', 'latitude', 'longitude',\n",
              "       'geo_comments', 'location_precision'],\n",
              "      dtype='object')"
            ]
          },
          "metadata": {},
          "execution_count": 16
        }
      ]
    },
    {
      "cell_type": "code",
      "source": [
        "X = data[['duration', 'repress', 'escalation', 'npart', 'cgovtarget']]\n",
        "y = data['ndeath']\n",
        "X_mean = X.mean()\n",
        "Y_mean = y.mean()\n",
        "print(f\"X mean = {X_mean}\")\n",
        "print(f\"Y mean = {Y_mean}\")"
      ],
      "metadata": {
        "colab": {
          "base_uri": "https://localhost:8080/"
        },
        "id": "dSemlHCsxD46",
        "outputId": "ab4a104e-985f-47d3-b6ec-6d832b6323a0"
      },
      "execution_count": 18,
      "outputs": [
        {
          "output_type": "stream",
          "name": "stdout",
          "text": [
            "X mean = duration       2.986433\n",
            "repress        0.227419\n",
            "escalation     0.355409\n",
            "npart        -58.448590\n",
            "cgovtarget     0.417172\n",
            "dtype: float64\n",
            "Y mean = 1.0662263477329526\n"
          ]
        }
      ]
    },
    {
      "cell_type": "code",
      "source": [
        "def LinearRegression(B_0, B_1,x, u):\n",
        "  return B_0 + B_1*x + u\n",
        "\n",
        "\n",
        "def B_1(x, x_mean, y, y_mean):\n",
        "  return ((x - x_mean) * (y - y_mean)).sum() / ((x - x_mean)**2).sum()\n",
        "\n",
        "def B_0(y_mean, x_mean, B_1):\n",
        "  return y_mean - B_1 * x_mean\n",
        "\n",
        "def y_pred(B_0, B_1, x):\n",
        "  return B_0 + B_1 * x\n",
        "\n",
        "b_1 = B_1(X['duration'], X_mean['duration'], y, Y_mean)\n",
        "b_0 = B_0(Y_mean, X_mean['duration'], b_1)\n",
        "y_pred = y_pred(b_0, b_1, X['duration'])\n",
        "print(f\"B_0 = {b_0}\")\n",
        "print(f\"B_1 = {b_1}\")\n",
        "print(f\"y_pred = {y_pred}\")"
      ],
      "metadata": {
        "colab": {
          "base_uri": "https://localhost:8080/"
        },
        "id": "2sSXuygwyP7k",
        "outputId": "814c2057-d8d2-4dd0-e514-9be95da7b1fa"
      },
      "execution_count": 21,
      "outputs": [
        {
          "output_type": "stream",
          "name": "stdout",
          "text": [
            "B_0 = 1.028399999207958\n",
            "B_1 = 0.01266606123353377\n",
            "y_pred = 0       1.041066\n",
            "1       1.041066\n",
            "2       1.041066\n",
            "3       1.256389\n",
            "4       1.041066\n",
            "          ...   \n",
            "5597    1.041066\n",
            "5598    1.041066\n",
            "5599    1.041066\n",
            "5600    1.041066\n",
            "5601    1.041066\n",
            "Name: duration, Length: 5602, dtype: float64\n"
          ]
        }
      ]
    },
    {
      "cell_type": "code",
      "source": [
        "import matplotlib.pyplot as plt\n",
        "\n",
        "plt.scatter(X['duration'], y, alpha=0.5)\n",
        "plt.plot(X['duration'], y_pred, color='red')\n",
        "plt.xlabel('Duration')\n",
        "plt.ylabel('Number of Deaths')\n",
        "plt.title('Régression linéaire simple')\n",
        "plt.grid(True)\n",
        "plt.show()\n"
      ],
      "metadata": {
        "colab": {
          "base_uri": "https://localhost:8080/",
          "height": 472
        },
        "id": "7aAKQBwc1GkZ",
        "outputId": "c3b89552-23b3-4d38-aa16-8ad4a8add80f"
      },
      "execution_count": 22,
      "outputs": [
        {
          "output_type": "display_data",
          "data": {
            "text/plain": [
              "<Figure size 640x480 with 1 Axes>"
            ],
            "image/png": "[encoded data removed]"
          },
          "metadata": {}
        }
      ]
    },
    {
      "cell_type": "code",
      "source": [
        "plt.savefig(\"regression_duration_ndeath.png\")"
      ],
      "metadata": {
        "colab": {
          "base_uri": "https://localhost:8080/",
          "height": 34
        },
        "id": "CWxLVxZa5O1R",
        "outputId": "70657af5-7e32-4dfa-af1a-ebaaf4ece9c3"
      },
      "execution_count": 25,
      "outputs": [
        {
          "output_type": "display_data",
          "data": {
            "text/plain": [
              "<Figure size 640x480 with 0 Axes>"
            ]
          },
          "metadata": {}
        }
      ]
    },
    {
      "cell_type": "code",
      "source": [
        "def test_t(b, se, b0=0):\n",
        "    return (b - b0) / se\n",
        "\n",
        "def residual_std_error(y, y_pred, n):\n",
        "    return np.sqrt(np.sum((y - y_pred)**2) / (n - 2))\n",
        "\n",
        "def se_b1(x, s):\n",
        "    return s / np.sqrt(np.sum((x - np.mean(x))**2))\n",
        "n = len(X['duration'])\n",
        "s = residual_std_error(y, y_pred, n)\n",
        "se_b1_value = se_b1(X['duration'], s)\n",
        "\n",
        "t = test_t(b_1, se_b1_value)\n",
        "print(f\"t = {t:.4f}\")\n"
      ],
      "metadata": {
        "colab": {
          "base_uri": "https://localhost:8080/"
        },
        "id": "RymQ-nlf8FSv",
        "outputId": "215eac57-8c10-44d8-f91e-37a622631559"
      },
      "execution_count": 30,
      "outputs": [
        {
          "output_type": "stream",
          "name": "stdout",
          "text": [
            "t = 1.0464\n"
          ]
        }
      ]
    },
    {
      "cell_type": "code",
      "source": [
        "from scipy.stats import t as student_t\n",
        "df = n - 2           # degrés de liberté\n",
        "p_value = 2 * (1 - student_t.cdf(abs(t), df))\n",
        "print(f\"p-value = {p_value:.4f}\")\n"
      ],
      "metadata": {
        "colab": {
          "base_uri": "https://localhost:8080/"
        },
        "id": "0O9zIPEd98kM",
        "outputId": "e8977441-6dc3-46c4-e6cc-f0fb30ea86f7"
      },
      "execution_count": 31,
      "outputs": [
        {
          "output_type": "stream",
          "name": "stdout",
          "text": [
            "p-value = 0.2954\n"
          ]
        }
      ]
    }
  ]
}